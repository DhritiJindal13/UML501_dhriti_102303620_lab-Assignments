{
  "nbformat": 4,
  "nbformat_minor": 0,
  "metadata": {
    "colab": {
      "provenance": []
    },
    "kernelspec": {
      "name": "python3",
      "display_name": "Python 3"
    },
    "language_info": {
      "name": "python"
    }
  },
  "cells": [
    {
      "cell_type": "code",
      "execution_count": null,
      "metadata": {
        "id": "zG8UV1QVMwAq"
      },
      "outputs": [],
      "source": [
        "import numpy as np"
      ]
    },
    {
      "cell_type": "markdown",
      "source": [
        "Q1) a) Reverse the NumPy array: arr = np.array([1, 2, 3, 6, 4, 5])"
      ],
      "metadata": {
        "id": "KXxT8U56M2H-"
      }
    },
    {
      "cell_type": "markdown",
      "source": [],
      "metadata": {
        "id": "D3cRwaK7NFZk"
      }
    },
    {
      "cell_type": "code",
      "source": [
        "arr=np.array([1, 2, 3, 6, 4, 5])\n",
        "reversed_array=np.flip(arr)\n",
        "print(reversed_array)"
      ],
      "metadata": {
        "colab": {
          "base_uri": "https://localhost:8080/"
        },
        "id": "AvMtGODpNHMP",
        "outputId": "ccc3b10e-2944-4043-a2d8-8ed726b382ca"
      },
      "execution_count": null,
      "outputs": [
        {
          "output_type": "stream",
          "name": "stdout",
          "text": [
            "[5 4 6 3 2 1]\n"
          ]
        }
      ]
    },
    {
      "cell_type": "markdown",
      "source": [
        "OUTPUT:[5 4 6 3 2 1]\n"
      ],
      "metadata": {
        "id": "ysfPemZFXHVy"
      }
    },
    {
      "cell_type": "markdown",
      "source": [
        "(b) Flatten the NumPy arr: array1 = np.array([[1, 2, 3], [2, 4, 5], [1, 2, 3]]) using any two NumPy in-built methods\n"
      ],
      "metadata": {
        "id": "R1DGMgVuOo3t"
      }
    },
    {
      "cell_type": "code",
      "source": [
        "arr=np.array([[1, 2, 3], [2, 4, 5], [1, 2, 3]])\n",
        "flatten_array=arr.flatten()\n",
        "print(flatten_array)"
      ],
      "metadata": {
        "colab": {
          "base_uri": "https://localhost:8080/"
        },
        "id": "Nx_rwkLBOmZO",
        "outputId": "2fde9978-ead9-427f-d7b2-1a6031313ae7"
      },
      "execution_count": null,
      "outputs": [
        {
          "output_type": "stream",
          "name": "stdout",
          "text": [
            "[1 2 3 2 4 5 1 2 3]\n"
          ]
        }
      ]
    },
    {
      "cell_type": "markdown",
      "source": [
        "OUTPUT:[1 2 3 2 4 5 1 2 3]\n"
      ],
      "metadata": {
        "id": "hYd5tOJtXMXQ"
      }
    },
    {
      "cell_type": "markdown",
      "source": [
        "(c) Compare the following numpy arrays:\n",
        "\n",
        "arr1 = np.array([[1, 2], [3, 4]])\n",
        "\n",
        "arr2 = np.array([[1, 2], [3, 4]])"
      ],
      "metadata": {
        "id": "_QVvSPROPJb_"
      }
    },
    {
      "cell_type": "code",
      "source": [
        "arr1 = np.array([[1, 2], [3, 4]])\n",
        "\n",
        "arr2 = np.array([[1, 2], [3, 4]])\n",
        "comparison = np.array_equal(arr1, arr2)\n",
        "print(comparison)"
      ],
      "metadata": {
        "colab": {
          "base_uri": "https://localhost:8080/"
        },
        "id": "ELSItlp3PX1n",
        "outputId": "3236d7e3-03f3-4e19-a9e8-38d1702a4e69"
      },
      "execution_count": null,
      "outputs": [
        {
          "output_type": "stream",
          "name": "stdout",
          "text": [
            "True\n"
          ]
        }
      ]
    },
    {
      "cell_type": "markdown",
      "source": [
        "OUTPUT:True"
      ],
      "metadata": {
        "id": "Aio2bdl4SnFr"
      }
    },
    {
      "cell_type": "markdown",
      "source": [
        "d) Find the most frequent value and their indice(s) in the following arrays:    \n",
        "i.)x = np.array([1,2,3,4,5,1,2,1,1,1]).  \n",
        "ii.)y = np.array([1, 1, 1, 2, 3, 4, 2, 4, 3, 3, ])\n"
      ],
      "metadata": {
        "id": "_U3fOsb-QyNr"
      }
    },
    {
      "cell_type": "code",
      "source": [
        "x = np.array([1, 2, 3, 4, 5, 1, 2, 1, 1, 1])\n",
        "\n",
        "most_frequent = np.bincount(x).argmax()\n",
        "\n",
        "indices = np.where(x == most_frequent)[0]\n",
        "\n",
        "print(\"Most frequent value:\", most_frequent)\n",
        "print(\"Indices where it appears:\", indices)\n",
        "\n",
        "from scipy import stats\n",
        "\n",
        "y = np.array([1, 1, 1, 2, 3, 4, 2, 4, 3, 3])\n",
        "\n",
        "values, counts = np.unique(y, return_counts=True)\n",
        "max_count = counts.max()\n",
        "most_frequent_values = values[counts == max_count]\n",
        "\n",
        "\n",
        "for val in most_frequent_values:\n",
        "    indices = np.where(y == val)[0]\n",
        "    print(f\"Most frequent value: {val}, Indices: {indices}\")\n"
      ],
      "metadata": {
        "colab": {
          "base_uri": "https://localhost:8080/"
        },
        "id": "4JabtkN6QzPS",
        "outputId": "f4fd3f28-cbcd-4a02-cd92-6338785e5f3c"
      },
      "execution_count": null,
      "outputs": [
        {
          "output_type": "stream",
          "name": "stdout",
          "text": [
            "Most frequent value: 1\n",
            "Indices where it appears: [0 5 7 8 9]\n",
            "Most frequent value: 1, Indices: [0 1 2]\n",
            "Most frequent value: 3, Indices: [4 8 9]\n"
          ]
        }
      ]
    },
    {
      "cell_type": "markdown",
      "source": [
        "OUTPUT:\n",
        "Most frequent value: 1\n",
        "\n",
        "\n",
        "Indices where it appears: [0 5 7 8 9]\n",
        "\n",
        "\n",
        "Most frequent value: 1, Indices: [0 1 2]\n",
        "\n",
        "\n",
        "Most frequent value: 3, Indices: [4 8 9]"
      ],
      "metadata": {
        "id": "Xmy2p6iDaBzU"
      }
    },
    {
      "cell_type": "markdown",
      "source": [
        "e)For the array array gfg = np.matrix('[4, 1, 9; 12, 3, 1; 4, 5, 6]'), find.  \n",
        "i) Sum of all elements.  \n",
        "ii)Sum of all elements row-wise.  \n",
        "iii)Sum of all elements column-wise"
      ],
      "metadata": {
        "id": "OnPUK7fbRncP"
      }
    },
    {
      "cell_type": "code",
      "source": [
        "gfg = np.matrix('[4, 1, 9; 12, 3, 1; 4, 5, 6]')\n",
        "sum_all = np.sum(gfg)\n",
        "sum_rowwise = np.sum(gfg, axis=1)\n",
        "sum_colwise = np.sum(gfg, axis=0)\n",
        "print('sum of all elemnets:',sum_all)\n",
        "print('Sum of all elements row-wise:',sum_rowwise)\n",
        "print('Sum of all elements column-wise:',sum_colwise)"
      ],
      "metadata": {
        "colab": {
          "base_uri": "https://localhost:8080/"
        },
        "id": "oF0bXV7DRBoI",
        "outputId": "51291a61-d5d5-4897-d78e-7be1f3d8ba2e"
      },
      "execution_count": null,
      "outputs": [
        {
          "output_type": "stream",
          "name": "stdout",
          "text": [
            "sum of all elemnets: 45\n",
            "Sum of all elements row-wise: [[14]\n",
            " [16]\n",
            " [15]]\n",
            "Sum of all elements column-wise: [[20  9 16]]\n"
          ]
        }
      ]
    },
    {
      "cell_type": "markdown",
      "source": [
        "OUTPUT:sum of all elemnets: 45.  \n",
        "Sum of all elements row-wise: [[14]\n",
        " [16]\n",
        " [15]]    \n",
        "Sum of all elements column-wise: [[20  9 16]]"
      ],
      "metadata": {
        "id": "jp5e8fj0S9mA"
      }
    },
    {
      "cell_type": "markdown",
      "source": [
        "(f) For the matrix: n_array = np.array([[55, 25, 15],[30, 44, 2],[11, 45, 77]]), find.  \n",
        "i)Sum of diagonal elements   \n",
        "ii)Eigen values of matrix   \n",
        "iii)Eigen vectors of matrix   \n",
        "iv)Inverse of matrix   \n",
        " v)Determinant of matrix"
      ],
      "metadata": {
        "id": "tTo2MveJTHKw"
      }
    },
    {
      "cell_type": "code",
      "source": [
        "n_array = np.array([[55, 25, 15],[30, 44, 2],[11, 45, 77]])\n",
        "diag_sum = np.trace(n_array)\n",
        "eig_vals, eig_vecs = np.linalg.eig(n_array)\n",
        "inv_matrix = np.linalg.inv(n_array)\n",
        "det_matrix = np.linalg.det(n_array)\n",
        "print('Sum of diagonal elements:',diag_sum)\n",
        "print('Eigen values of matrix:',eig_vals)\n",
        "print('Eigen Vectors:',eig_vecs)\n",
        "print('Inversion of matrix:',inv_matrix)\n",
        "print('Determinant of matrix:',det_matrix)"
      ],
      "metadata": {
        "colab": {
          "base_uri": "https://localhost:8080/"
        },
        "id": "GD3i-GM4TkT3",
        "outputId": "1784aab1-6ee5-4082-95da-bd2ec699342f"
      },
      "execution_count": null,
      "outputs": [
        {
          "output_type": "stream",
          "name": "stdout",
          "text": [
            "Sum of diagonal elements: 176\n",
            "Eigen values of matrix: [98.16835147 28.097044   49.73460452]\n",
            "Eigen Vectors: [[ 0.4574917   0.34637121 -0.15017693]\n",
            " [ 0.28447814 -0.72784061 -0.4852124 ]\n",
            " [ 0.84248058  0.59184038  0.8614034 ]]\n",
            "Inversion of matrix: [[ 0.02404141 -0.00911212 -0.00444671]\n",
            " [-0.01667882  0.02966905  0.0024785 ]\n",
            " [ 0.00631287 -0.01603732  0.01217379]]\n",
            "Determinant of matrix: 137180.0000000001\n"
          ]
        }
      ]
    },
    {
      "cell_type": "markdown",
      "source": [
        "OUTPUT:Sum of diagonal elements: 176\n",
        "Eigen values of matrix: [98.16835147 28.097044   49.73460452]    \n",
        "Eigen Vectors: [[ 0.4574917   0.34637121 -0.15017693]\n",
        " [ 0.28447814 -0.72784061 -0.4852124 ]\n",
        " [ 0.84248058  0.59184038  0.8614034 ]].    \n",
        "Inversion of matrix: [[ 0.02404141 -0.00911212 -0.00444671]\n",
        " [-0.01667882  0.02966905  0.0024785 ]\n",
        " [ 0.00631287 -0.01603732  0.01217379]].    \n",
        "Determinant of matrix: 137180.0000000001"
      ],
      "metadata": {
        "id": "4Fa7FDezUzEc"
      }
    },
    {
      "cell_type": "markdown",
      "source": [
        "G)Multiply the following matrices and also find covariance between matrices using NumPy:   \n",
        "i. p = [[1, 2], [2, 3]].\n",
        "q = [[4, 5], [6, 7]].  \n",
        "ii. p = [[1, 2], [2, 3], [4, 5]]\n",
        "q = [[4, 5, 1], [6, 7, 2]]"
      ],
      "metadata": {
        "id": "AKVgnO_gVQW6"
      }
    },
    {
      "cell_type": "code",
      "source": [
        "# (i.)\n",
        "p1 = np.array([[1, 2], [2, 3]])\n",
        "q1 = np.array([[4, 5], [6, 7]])\n",
        "\n",
        "product1 = np.dot(p1, q1)\n",
        "print(\"Matrix Multiplication (p1 x q1):\\n\", product1)\n",
        "\n",
        "combined1 = np.vstack((p1.flatten(), q1.flatten()))\n",
        "cov_matrix1 = np.cov(combined1)\n",
        "print(\"\\nCovariance matrix between p1 and q1:\\n\", cov_matrix1)\n",
        "\n",
        "\n",
        "# (ii.)\n",
        "p2 = np.array([[1, 2], [2, 3], [4, 5]])\n",
        "q2 = np.array([[4, 5, 1], [6, 7, 2]])\n",
        "\n",
        "\n",
        "product2 = np.dot(p2, q2)\n",
        "print(\"\\nMatrix Multiplication (p2 x q2):\\n\", product2)\n",
        "\n",
        "\n",
        "combined2 = np.vstack((p2.flatten(), q2.flatten()))\n",
        "cov_matrix2 = np.cov(combined2)\n",
        "print(\"\\nCovariance matrix between p2 and q2:\\n\", cov_matrix2)"
      ],
      "metadata": {
        "colab": {
          "base_uri": "https://localhost:8080/"
        },
        "id": "PVUnOJnLVYk8",
        "outputId": "11ef9da9-3949-47d4-f26f-eaf42bf244d9"
      },
      "execution_count": null,
      "outputs": [
        {
          "output_type": "stream",
          "name": "stdout",
          "text": [
            "Matrix Multiplication (p1 x q1):\n",
            " [[16 19]\n",
            " [26 31]]\n",
            "\n",
            "Covariance matrix between p1 and q1:\n",
            " [[0.66666667 1.        ]\n",
            " [1.         1.66666667]]\n",
            "\n",
            "Matrix Multiplication (p2 x q2):\n",
            " [[16 19  5]\n",
            " [26 31  8]\n",
            " [46 55 14]]\n",
            "\n",
            "Covariance matrix between p2 and q2:\n",
            " [[2.16666667 0.23333333]\n",
            " [0.23333333 5.36666667]]\n"
          ]
        }
      ]
    },
    {
      "cell_type": "markdown",
      "source": [
        "OUTPUT:Matrix Multiplication (p1 x q1):\n",
        " [[16 19]\n",
        " [26 31]]\n",
        "\n",
        "Covariance matrix between p1 and q1:\n",
        " [[0.66666667 1.        ]\n",
        " [1.         1.66666667]]\n",
        "\n",
        "Matrix Multiplication (p2 x q2):\n",
        " [[16 19  5]\n",
        " [26 31  8]\n",
        " [46 55 14]]\n",
        "\n",
        "Covariance matrix between p2 and q2:\n",
        " [[2.16666667 0.23333333]\n",
        " [0.23333333 5.36666667]]"
      ],
      "metadata": {
        "id": "2d-okPIFVmLh"
      }
    },
    {
      "cell_type": "markdown",
      "source": [
        "(h) For the matrices:   \n",
        "\n",
        "x = np.array([[2, 3, 4], [3, 2, 9]]);\n",
        "\n",
        "y = np.array([[1, 5, 0], [5, 10, 3]]),\n",
        "\n",
        "find inner, outer and cartesian product?\n",
        "\n"
      ],
      "metadata": {
        "id": "nh0H9b5NVv3W"
      }
    },
    {
      "cell_type": "code",
      "source": [
        "\n",
        "\n",
        "x = np.array([[2, 3, 4], [3, 2, 9]])\n",
        "y = np.array([[1, 5, 0], [5, 10, 3]])\n",
        "\n",
        "inner_product = np.sum(x * y)\n",
        "\n",
        "\n",
        "outer_product = np.outer(x, y)\n",
        "\n",
        "\n",
        "cartesian_product = np.array(np.meshgrid(x, y)).T.reshape(-1, x.shape[1] + y.shape[1])\n",
        "\n",
        "print(\"Inner Product:\", inner_product)\n",
        "print(\"\\nOuter Product:\\n\", outer_product)\n",
        "print(\"\\nCartesian Product:\\n\", cartesian_product)"
      ],
      "metadata": {
        "colab": {
          "base_uri": "https://localhost:8080/"
        },
        "id": "QHRBakDaV_aH",
        "outputId": "a1c23f98-4019-45e3-de1e-5dbc1e563fa0"
      },
      "execution_count": null,
      "outputs": [
        {
          "output_type": "stream",
          "name": "stdout",
          "text": [
            "Inner Product: 79\n",
            "\n",
            "Outer Product:\n",
            " [[ 2 10  0 10 20  6]\n",
            " [ 3 15  0 15 30  9]\n",
            " [ 4 20  0 20 40 12]\n",
            " [ 3 15  0 15 30  9]\n",
            " [ 2 10  0 10 20  6]\n",
            " [ 9 45  0 45 90 27]]\n",
            "\n",
            "Cartesian Product:\n",
            " [[ 2  1  2  5  2  0]\n",
            " [ 2  5  2 10  2  3]\n",
            " [ 3  1  3  5  3  0]\n",
            " [ 3  5  3 10  3  3]\n",
            " [ 4  1  4  5  4  0]\n",
            " [ 4  5  4 10  4  3]\n",
            " [ 3  1  3  5  3  0]\n",
            " [ 3  5  3 10  3  3]\n",
            " [ 2  1  2  5  2  0]\n",
            " [ 2  5  2 10  2  3]\n",
            " [ 9  1  9  5  9  0]\n",
            " [ 9  5  9 10  9  3]]\n"
          ]
        }
      ]
    },
    {
      "cell_type": "markdown",
      "source": [
        "OUTPUT\n",
        "\n",
        "Inner Product: 79\n",
        "\n",
        "Outer Product:\n",
        " [[ 2 10  0 10 20  6]\n",
        " [ 3 15  0 15 30  9]\n",
        " [ 4 20  0 20 40 12]\n",
        " [ 3 15  0 15 30  9]\n",
        " [ 2 10  0 10 20  6]\n",
        " [ 9 45  0 45 90 27]]\n",
        "\n",
        "Cartesian Product:\n",
        " [[ 2  1  2  5  2  0]\n",
        " [ 2  5  2 10  2  3]\n",
        " [ 3  1  3  5  3  0]\n",
        " [ 3  5  3 10  3  3]\n",
        " [ 4  1  4  5  4  0]\n",
        " [ 4  5  4 10  4  3]\n",
        " [ 3  1  3  5  3  0]\n",
        " [ 3  5  3 10  3  3]\n",
        " [ 2  1  2  5  2  0]\n",
        " [ 2  5  2 10  2  3]\n",
        " [ 9  1  9  5  9  0]\n",
        " [ 9  5  9 10  9  3]]"
      ],
      "metadata": {
        "id": "KYIdOPGqWVf2"
      }
    },
    {
      "cell_type": "markdown",
      "source": [
        "Q2"
      ],
      "metadata": {
        "id": "WIjcUp90WZx3"
      }
    },
    {
      "cell_type": "markdown",
      "source": [
        "a) For the array: array = np.array([[1, -2, 3],[-4, 5, -6]]).   \n",
        "i. Find element-wise absolute value.    \n",
        "ii. Find the 25th, 50th, and 75th percentile of flattened array, for each column, for each row.    \n",
        "iii. Mean, Median and Standard Deviation of flattened array, of each column, and each row"
      ],
      "metadata": {
        "id": "rKYnYdhCWcin"
      }
    },
    {
      "cell_type": "code",
      "source": [
        "\n",
        "array = np.array([[1, -2, 3], [-4, 5, -6]])\n",
        "\n",
        "\n",
        "\n",
        "abs_array = np.abs(array)\n",
        "print(\"Element-wise Absolute Value:\\n\", abs_array)\n",
        "\n",
        "\n",
        "\n",
        "percentiles_flat = np.percentile(array, [25, 50, 75])\n",
        "print(\"\\nPercentiles of flattened array (25th, 50th, 75th):\", percentiles_flat)\n",
        "\n",
        "\n",
        "percentiles_cols = np.percentile(array, [25, 50, 75], axis=0)\n",
        "print(\"Percentiles for each column:\\n\", percentiles_cols)\n",
        "\n",
        "\n",
        "percentiles_rows = np.percentile(array, [25, 50, 75], axis=1)\n",
        "print(\"Percentiles for each row:\\n\", percentiles_rows)\n",
        "\n",
        "\n",
        "\n",
        "mean_flat = np.mean(array)\n",
        "median_flat = np.median(array)\n",
        "std_flat = np.std(array)\n",
        "print(\"\\nFlattened Array:\")\n",
        "print(\"Mean:\", mean_flat)\n",
        "print(\"Median:\", median_flat)\n",
        "print(\"Standard Deviation:\", std_flat)\n",
        "\n",
        "\n",
        "mean_col = np.mean(array, axis=0)\n",
        "median_col = np.median(array, axis=0)\n",
        "std_col = np.std(array, axis=0)\n",
        "print(\"\\nColumn-wise:\")\n",
        "print(\"Mean:\", mean_col)\n",
        "print(\"Median:\", median_col)\n",
        "print(\"Standard Deviation:\", std_col)\n",
        "\n",
        "\n",
        "mean_row = np.mean(array, axis=1)\n",
        "median_row = np.median(array, axis=1)\n",
        "std_row = np.std(array, axis=1)\n",
        "print(\"\\nRow-wise:\")\n",
        "print(\"Mean:\", mean_row)\n",
        "print(\"Median:\", median_row)\n",
        "print(\"Standard Deviation:\", std_row)"
      ],
      "metadata": {
        "colab": {
          "base_uri": "https://localhost:8080/"
        },
        "id": "2OfzpmtUWki9",
        "outputId": "38804814-4de4-4d9e-d272-906f5e65d37b"
      },
      "execution_count": null,
      "outputs": [
        {
          "output_type": "stream",
          "name": "stdout",
          "text": [
            "Element-wise Absolute Value:\n",
            " [[1 2 3]\n",
            " [4 5 6]]\n",
            "\n",
            "Percentiles of flattened array (25th, 50th, 75th): [-3.5 -0.5  2.5]\n",
            "Percentiles for each column:\n",
            " [[-2.75 -0.25 -3.75]\n",
            " [-1.5   1.5  -1.5 ]\n",
            " [-0.25  3.25  0.75]]\n",
            "Percentiles for each row:\n",
            " [[-0.5 -5. ]\n",
            " [ 1.  -4. ]\n",
            " [ 2.   0.5]]\n",
            "\n",
            "Flattened Array:\n",
            "Mean: -0.5\n",
            "Median: -0.5\n",
            "Standard Deviation: 3.8622100754188224\n",
            "\n",
            "Column-wise:\n",
            "Mean: [-1.5  1.5 -1.5]\n",
            "Median: [-1.5  1.5 -1.5]\n",
            "Standard Deviation: [2.5 3.5 4.5]\n",
            "\n",
            "Row-wise:\n",
            "Mean: [ 0.66666667 -1.66666667]\n",
            "Median: [ 1. -4.]\n",
            "Standard Deviation: [2.05480467 4.78423336]\n"
          ]
        }
      ]
    },
    {
      "cell_type": "markdown",
      "source": [
        "OUTPUT:Element-wise Absolute Value:\n",
        " [[1 2 3]\n",
        " [4 5 6]]\n",
        "\n",
        "Percentiles of flattened array (25th, 50th, 75th): [-3.5 -0.5  2.5]\n",
        "Percentiles for each column:\n",
        " [[-2.75 -0.25 -3.75]\n",
        " [-1.5   1.5  -1.5 ]\n",
        " [-0.25  3.25  0.75]]\n",
        "Percentiles for each row:\n",
        " [[-0.5 -5. ]\n",
        " [ 1.  -4. ]\n",
        " [ 2.   0.5]]\n",
        "\n",
        "Flattened Array:\n",
        "Mean: -0.5\n",
        "Median: -0.5\n",
        "Standard Deviation: 3.8622100754188224\n",
        "\n",
        "Column-wise:\n",
        "Mean: [-1.5  1.5 -1.5]\n",
        "Median: [-1.5  1.5 -1.5]\n",
        "Standard Deviation: [2.5 3.5 4.5]\n",
        "\n",
        "Row-wise:\n",
        "Mean: [ 0.66666667 -1.66666667]\n",
        "Median: [ 1. -4.]\n",
        "Standard Deviation: [2.05480467 4.78423336]"
      ],
      "metadata": {
        "id": "J32hWS_LW-EY"
      }
    },
    {
      "cell_type": "markdown",
      "source": [],
      "metadata": {
        "id": "z1d5wt5HXQSG"
      }
    },
    {
      "cell_type": "markdown",
      "source": [
        "(b) For the array: a = np.array([-1.8, -1.6, -0.5, 0.5,1.6, 1.8, 3.0]).\n",
        "\n",
        "Find floor, ceiling\n",
        "and truncated value, rounded value"
      ],
      "metadata": {
        "id": "3ksDVjQ-XUtd"
      }
    },
    {
      "cell_type": "code",
      "source": [
        "\n",
        "a = np.array([-1.8, -1.6, -0.5, 0.5, 1.6, 1.8, 3.0])\n",
        "\n",
        "floor_vals = np.floor(a)\n",
        "print(\"Floor values: \", floor_vals)\n",
        "\n",
        "\n",
        "ceil_vals = np.ceil(a)\n",
        "print(\"Ceiling values: \", ceil_vals)\n",
        "\n",
        "trunc_vals = np.trunc(a)\n",
        "print(\"Truncated values: \", trunc_vals)\n",
        "\n",
        "\n",
        "rounded_vals = np.round(a)\n",
        "print(\"Rounded values: \", rounded_vals)"
      ],
      "metadata": {
        "colab": {
          "base_uri": "https://localhost:8080/"
        },
        "id": "iDkWSTdmXavd",
        "outputId": "a5885520-a558-4f7f-9ca8-b89cca16aa4e"
      },
      "execution_count": null,
      "outputs": [
        {
          "output_type": "stream",
          "name": "stdout",
          "text": [
            "Floor values:  [-2. -2. -1.  0.  1.  1.  3.]\n",
            "Ceiling values:  [-1. -1. -0.  1.  2.  2.  3.]\n",
            "Truncated values:  [-1. -1. -0.  0.  1.  1.  3.]\n",
            "Rounded values:  [-2. -2. -0.  0.  2.  2.  3.]\n"
          ]
        }
      ]
    },
    {
      "cell_type": "markdown",
      "source": [
        "OUTPUT:\n",
        "\n",
        "Floor values:  [-2. -2. -1.  0.  1.  1.  3.]\n",
        "\n",
        "\n",
        "Ceiling values:  [-1. -1. -0.  1.  2.  2.  3.]\n",
        "\n",
        "\n",
        "Truncated values:  [-1. -1. -0.  0.  1.  1.  3.]\n",
        "\n",
        "\n",
        "Rounded values:  [-2. -2. -0.  0.  2.  2.  3.]\n"
      ],
      "metadata": {
        "id": "WmDCTLKrXnlI"
      }
    },
    {
      "cell_type": "markdown",
      "source": [],
      "metadata": {
        "id": "2MuhA77qXDbM"
      }
    },
    {
      "cell_type": "markdown",
      "source": [
        "Q3)"
      ],
      "metadata": {
        "id": "DxhZnNFqXvSY"
      }
    },
    {
      "cell_type": "markdown",
      "source": [
        "(a) For the array: array = np.array([10, 52, 62, 16, 16, 54, 453]),\n",
        "\n",
        "find:- i. Sorted array\n",
        "\n",
        "\n",
        "ii. Indices of sorted array\n",
        "\n",
        "iii. 4 smallest elements\n",
        "\n",
        "iv. 5 largest elements"
      ],
      "metadata": {
        "id": "4Tr96YvYXxMD"
      }
    },
    {
      "cell_type": "code",
      "source": [
        "array=np.array([10,52, 62, 16, 16, 54, 453])\n",
        "sorted_array = np.sort(array)\n",
        "print(\"Sorted array:\", sorted_array)\n",
        "\n",
        "\n",
        "sorted_indices = np.argsort(array)\n",
        "print(\"Indices of sorted array:\", sorted_indices)\n",
        "\n",
        "\n",
        "smallest_4 = np.sort(array)[:4]\n",
        "print(\"4 smallest elements:\", smallest_4)\n",
        "\n",
        "\n",
        "largest_5 = np.sort(array)[-5:][::-1]\n",
        "print(\"5 largest elements:\", largest_5)"
      ],
      "metadata": {
        "colab": {
          "base_uri": "https://localhost:8080/"
        },
        "id": "5jin2BXLXuiE",
        "outputId": "b4ee12e2-f540-4305-c456-f44b89eda645"
      },
      "execution_count": null,
      "outputs": [
        {
          "output_type": "stream",
          "name": "stdout",
          "text": [
            "Sorted array: [ 10  16  16  52  54  62 453]\n",
            "Indices of sorted array: [0 3 4 1 5 2 6]\n",
            "4 smallest elements: [10 16 16 52]\n",
            "5 largest elements: [453  62  54  52  16]\n"
          ]
        }
      ]
    },
    {
      "cell_type": "markdown",
      "source": [
        "OUTPUT:Sorted array: [ 10  16  16  52  54  62 453]\n",
        "\n",
        "\n",
        "Indices of sorted array: [0 3 4 1 5 2 6]\n",
        "\n",
        "\n",
        "4 smallest elements: [10 16 16 52]\n",
        "\n",
        "\n",
        "5 largest elements: [453  62  54  52  16]"
      ],
      "metadata": {
        "id": "tuhSd-5ZYaGD"
      }
    },
    {
      "cell_type": "markdown",
      "source": [
        "b) For the array: array = np.array([1.0, 1.2, 2.2, 2.0, 3.0, 2.0]),\n",
        "\n",
        "find i. Integer elements only\n",
        "\n",
        "\n",
        "ii. Float elements only"
      ],
      "metadata": {
        "id": "05tdtVCKYd8f"
      }
    },
    {
      "cell_type": "code",
      "source": [
        "array = np.array([1.0, 1.2, 2.2, 2.0, 3.0, 2.0])\n",
        "\n",
        "\n",
        "integer_elements = array[array == np.floor(array)]\n",
        "print(\"Integer elements:\", integer_elements)\n",
        "\n",
        "float_elements = array[array != np.floor(array)]\n",
        "print(\"Float elements:\", float_elements)"
      ],
      "metadata": {
        "colab": {
          "base_uri": "https://localhost:8080/"
        },
        "id": "8Fhl6pmwZMDl",
        "outputId": "d96a6cf1-c4af-41fc-b7d3-0922a5420f48"
      },
      "execution_count": null,
      "outputs": [
        {
          "output_type": "stream",
          "name": "stdout",
          "text": [
            "Integer elements: [1. 2. 3. 2.]\n",
            "Float elements: [1.2 2.2]\n"
          ]
        }
      ]
    },
    {
      "cell_type": "markdown",
      "source": [
        "OUTPUT:Integer elements: [1. 2. 3. 2.]\n",
        "Float elements: [1.2 2.2]"
      ],
      "metadata": {
        "id": "5d1LozTxZRyo"
      }
    },
    {
      "cell_type": "markdown",
      "source": [
        "Q4)\n"
      ],
      "metadata": {
        "id": "Eg9N1DZbaJWo"
      }
    },
    {
      "cell_type": "markdown",
      "source": [
        "\n",
        "(a) Write a function named img_to_array(path) that reads an image from a specified path and save it as text file on local machine? (Note: use separate cases for RGB and Grey Scale images)\n"
      ],
      "metadata": {
        "id": "0iLijuh9aQVY"
      }
    },
    {
      "cell_type": "code",
      "source": [
        "import cv2\n",
        "import numpy as np\n",
        "\n",
        "def img_to_array(path):\n",
        "    image = cv2.imread(path, cv2.IMREAD_UNCHANGED)\n",
        "    if len(image.shape) == 2:\n",
        "        np.savetxt(\"image_arr.txt\", image, fmt='%d')\n",
        "        print(\" Grayscale image detected and saved as 'image_arr.txt'\")\n",
        "\n",
        "    elif len(image.shape) == 3 and image.shape[2] == 3:\n",
        "        reshaped = image.reshape(-1, 3)\n",
        "        np.savetxt(\"image_arr.txt\", reshaped, fmt='%d')\n",
        "        print(\"Color image saved as 'image_arr.txt'\")\n",
        "\n",
        "    else:\n",
        "        print(\" Unsupported image format.\")\n",
        "\n",
        "img_to_array(\"image.jpg\")"
      ],
      "metadata": {
        "id": "OshpPPDMaSjb",
        "colab": {
          "base_uri": "https://localhost:8080/"
        },
        "outputId": "654ab8e6-4097-4697-af08-a9ecc4b406a7"
      },
      "execution_count": 28,
      "outputs": [
        {
          "output_type": "stream",
          "name": "stdout",
          "text": [
            "Color image saved as 'image_arr.txt'\n"
          ]
        }
      ]
    },
    {
      "cell_type": "markdown",
      "source": [],
      "metadata": {
        "id": "oqanRKgPaP_R"
      }
    }
  ]
}