{
  "nbformat": 4,
  "nbformat_minor": 0,
  "metadata": {
    "colab": {
      "provenance": []
    },
    "kernelspec": {
      "name": "python3",
      "display_name": "Python 3"
    },
    "language_info": {
      "name": "python"
    }
  },
  "cells": [
    {
      "cell_type": "markdown",
      "source": [
        "ASSIGNMENT-2"
      ],
      "metadata": {
        "id": "fjiS1xP68oOL"
      }
    },
    {
      "cell_type": "code",
      "execution_count": 9,
      "metadata": {
        "id": "PQ4B5ht5xzTR"
      },
      "outputs": [],
      "source": [
        "import pandas as pd\n",
        "#Q1(a)\n",
        "df=pd.read_csv(\"AWCustomers.csv\")"
      ]
    },
    {
      "cell_type": "code",
      "source": [
        "print(df.info())\n",
        "print(df.head())\n",
        "\n",
        "selected_features = [\"YearlyIncome\",\"NumberCarsOwned\",\"NumberChildrenAtHome\",\"Occupation\",\"Gender\", \"MaritalStatus\"]"
      ],
      "metadata": {
        "collapsed": true,
        "colab": {
          "base_uri": "https://localhost:8080/"
        },
        "id": "8YdLnJg3yGtS",
        "outputId": "0584a72b-1abe-4f53-eed5-ac6ad356cc77"
      },
      "execution_count": 2,
      "outputs": [
        {
          "output_type": "stream",
          "name": "stdout",
          "text": [
            "<class 'pandas.core.frame.DataFrame'>\n",
            "RangeIndex: 5892 entries, 0 to 5891\n",
            "Data columns (total 24 columns):\n",
            " #   Column                Non-Null Count  Dtype  \n",
            "---  ------                --------------  -----  \n",
            " 0   CustomerID            5892 non-null   int64  \n",
            " 1   Title                 35 non-null     object \n",
            " 2   FirstName             5892 non-null   object \n",
            " 3   MiddleName            3374 non-null   object \n",
            " 4   LastName              5892 non-null   object \n",
            " 5   Suffix                1 non-null      object \n",
            " 6   AddressLine1          5891 non-null   object \n",
            " 7   AddressLine2          104 non-null    object \n",
            " 8   City                  5891 non-null   object \n",
            " 9   StateProvinceName     5891 non-null   object \n",
            " 10  CountryRegionName     5891 non-null   object \n",
            " 11  PostalCode            5891 non-null   object \n",
            " 12  PhoneNumber           5891 non-null   object \n",
            " 13  BirthDate             5891 non-null   object \n",
            " 14  Education             5891 non-null   object \n",
            " 15  Occupation            5891 non-null   object \n",
            " 16  Gender                5891 non-null   object \n",
            " 17  MaritalStatus         5891 non-null   object \n",
            " 18  HomeOwnerFlag         5891 non-null   float64\n",
            " 19  NumberCarsOwned       5891 non-null   float64\n",
            " 20  NumberChildrenAtHome  5891 non-null   float64\n",
            " 21  TotalChildren         5891 non-null   float64\n",
            " 22  YearlyIncome          5891 non-null   float64\n",
            " 23  LastUpdated           5891 non-null   object \n",
            "dtypes: float64(5), int64(1), object(18)\n",
            "memory usage: 1.1+ MB\n",
            "None\n",
            "   CustomerID Title FirstName MiddleName  LastName Suffix  \\\n",
            "0       21173   NaN      Chad          C      Yuan    NaN   \n",
            "1       13249   NaN      Ryan        NaN     Perry    NaN   \n",
            "2       29350   NaN     Julia        NaN  Thompson    NaN   \n",
            "3       13503   NaN  Theodore        NaN     Gomez    NaN   \n",
            "4       22803   NaN  Marshall          J      Shan    NaN   \n",
            "\n",
            "             AddressLine1 AddressLine2         City    StateProvinceName  ...  \\\n",
            "0      7090 C. Mount Hood          NaN   Wollongong      New South Wales  ...   \n",
            "1     3651 Willow Lake Rd          NaN      Shawnee     British Columbia  ...   \n",
            "2  1774 Tice Valley Blvd.          NaN  West Covina           California  ...   \n",
            "3         2103 Baldwin Dr          NaN    Liverpool              England  ...   \n",
            "4         Am Gallberg 234          NaN        Werne  Nordrhein-Westfalen  ...   \n",
            "\n",
            "         Education      Occupation Gender MaritalStatus HomeOwnerFlag  \\\n",
            "0        Bachelors        Clerical      M             M           1.0   \n",
            "1  Partial College        Clerical      M             M           1.0   \n",
            "2        Bachelors        Clerical      F             S           0.0   \n",
            "3  Partial College  Skilled Manual      M             M           1.0   \n",
            "4  Partial College  Skilled Manual      M             S           1.0   \n",
            "\n",
            "  NumberCarsOwned NumberChildrenAtHome TotalChildren  YearlyIncome  \\\n",
            "0             3.0                  0.0           1.0       81916.0   \n",
            "1             2.0                  1.0           2.0       81076.0   \n",
            "2             3.0                  0.0           0.0       86387.0   \n",
            "3             2.0                  1.0           2.0       61481.0   \n",
            "4             1.0                  0.0           0.0       51804.0   \n",
            "\n",
            "   LastUpdated  \n",
            "0   2017-03-06  \n",
            "1   2017-03-06  \n",
            "2   2017-03-06  \n",
            "3   2017-03-06  \n",
            "4   2017-03-06  \n",
            "\n",
            "[5 rows x 24 columns]\n"
          ]
        }
      ]
    },
    {
      "cell_type": "code",
      "source": [
        "#Q1(b)\n",
        "df_selected = df[selected_features]\n",
        "print(df_selected.head())"
      ],
      "metadata": {
        "colab": {
          "base_uri": "https://localhost:8080/"
        },
        "id": "qEWMXrdoyIuZ",
        "outputId": "937571b2-9fbf-48ee-9db6-910b6bd460eb"
      },
      "execution_count": 10,
      "outputs": [
        {
          "output_type": "stream",
          "name": "stdout",
          "text": [
            "   YearlyIncome  NumberCarsOwned  NumberChildrenAtHome      Occupation Gender  \\\n",
            "0         81916                3                     0        Clerical      M   \n",
            "1         81076                2                     1        Clerical      M   \n",
            "2         86387                3                     0        Clerical      F   \n",
            "3         61481                2                     1  Skilled Manual      M   \n",
            "4         51804                1                     0  Skilled Manual      M   \n",
            "\n",
            "  MaritalStatus  \n",
            "0             M  \n",
            "1             M  \n",
            "2             S  \n",
            "3             M  \n",
            "4             S  \n"
          ]
        }
      ]
    },
    {
      "cell_type": "code",
      "source": [
        "#Q1 (c)\n",
        "print(df_selected.dtypes)"
      ],
      "metadata": {
        "colab": {
          "base_uri": "https://localhost:8080/"
        },
        "id": "mBNvG7sTyQm5",
        "outputId": "a9a2a339-3a1c-4ec1-cd95-13ed5f69693f"
      },
      "execution_count": 11,
      "outputs": [
        {
          "output_type": "stream",
          "name": "stdout",
          "text": [
            "YearlyIncome             int64\n",
            "NumberCarsOwned          int64\n",
            "NumberChildrenAtHome     int64\n",
            "Occupation              object\n",
            "Gender                  object\n",
            "MaritalStatus           object\n",
            "dtype: object\n"
          ]
        }
      ]
    },
    {
      "cell_type": "code",
      "source": [
        "print(df_selected.isnull().sum())"
      ],
      "metadata": {
        "colab": {
          "base_uri": "https://localhost:8080/"
        },
        "id": "NCmY3_jryWE4",
        "outputId": "5315ef8b-5ecb-4678-b65d-c3b82e70251e"
      },
      "execution_count": 12,
      "outputs": [
        {
          "output_type": "stream",
          "name": "stdout",
          "text": [
            "YearlyIncome            0\n",
            "NumberCarsOwned         0\n",
            "NumberChildrenAtHome    0\n",
            "Occupation              0\n",
            "Gender                  0\n",
            "MaritalStatus           0\n",
            "dtype: int64\n"
          ]
        }
      ]
    },
    {
      "cell_type": "code",
      "source": [
        "#Q2(a)\n",
        "df_selected=df_selected.dropna()"
      ],
      "metadata": {
        "id": "p-fkLcXAybnz"
      },
      "execution_count": 13,
      "outputs": []
    },
    {
      "cell_type": "code",
      "source": [
        "print(df_selected.head())"
      ],
      "metadata": {
        "colab": {
          "base_uri": "https://localhost:8080/"
        },
        "id": "Xm446fNa2rJ8",
        "outputId": "2fab61a8-e5d2-4a02-bbbb-b80ff4cebfb3"
      },
      "execution_count": 14,
      "outputs": [
        {
          "output_type": "stream",
          "name": "stdout",
          "text": [
            "   YearlyIncome  NumberCarsOwned  NumberChildrenAtHome      Occupation Gender  \\\n",
            "0         81916                3                     0        Clerical      M   \n",
            "1         81076                2                     1        Clerical      M   \n",
            "2         86387                3                     0        Clerical      F   \n",
            "3         61481                2                     1  Skilled Manual      M   \n",
            "4         51804                1                     0  Skilled Manual      M   \n",
            "\n",
            "  MaritalStatus  \n",
            "0             M  \n",
            "1             M  \n",
            "2             S  \n",
            "3             M  \n",
            "4             S  \n"
          ]
        }
      ]
    },
    {
      "cell_type": "code",
      "source": [
        "print(df_selected.isnull().sum())"
      ],
      "metadata": {
        "colab": {
          "base_uri": "https://localhost:8080/"
        },
        "id": "Fus7peUl26jm",
        "outputId": "0f88baaf-a77c-4764-b2dc-8445b755bff3"
      },
      "execution_count": 15,
      "outputs": [
        {
          "output_type": "stream",
          "name": "stdout",
          "text": [
            "YearlyIncome            0\n",
            "NumberCarsOwned         0\n",
            "NumberChildrenAtHome    0\n",
            "Occupation              0\n",
            "Gender                  0\n",
            "MaritalStatus           0\n",
            "dtype: int64\n"
          ]
        }
      ]
    },
    {
      "cell_type": "code",
      "source": [
        "from sklearn.preprocessing import MinMaxScaler\n",
        "scaler = MinMaxScaler()\n",
        "df_selected[['YearlyIncome']] = scaler.fit_transform(df_selected[['YearlyIncome']])\n",
        "print(df_selected)"
      ],
      "metadata": {
        "colab": {
          "base_uri": "https://localhost:8080/"
        },
        "id": "Aoe9tntI28Qb",
        "outputId": "ee777bfb-b25d-48f3-e583-1f2824411a8c"
      },
      "execution_count": 16,
      "outputs": [
        {
          "output_type": "stream",
          "name": "stdout",
          "text": [
            "       YearlyIncome  NumberCarsOwned  NumberChildrenAtHome      Occupation  \\\n",
            "0          0.496842                3                     0        Clerical   \n",
            "1          0.489453                2                     1        Clerical   \n",
            "2          0.536172                3                     0        Clerical   \n",
            "3          0.317083                2                     1  Skilled Manual   \n",
            "4          0.231958                1                     0  Skilled Manual   \n",
            "...             ...              ...                   ...             ...   \n",
            "18356      0.242065                1                     0  Skilled Manual   \n",
            "18357      0.312781                2                     0  Skilled Manual   \n",
            "18358      0.232442                2                     0  Skilled Manual   \n",
            "18359      0.543121                0                     0        Clerical   \n",
            "18360      0.980128                2                     0    Professional   \n",
            "\n",
            "      Gender MaritalStatus  \n",
            "0          M             M  \n",
            "1          M             M  \n",
            "2          F             S  \n",
            "3          M             M  \n",
            "4          M             S  \n",
            "...      ...           ...  \n",
            "18356      F             M  \n",
            "18357      F             S  \n",
            "18358      F             S  \n",
            "18359      F             S  \n",
            "18360      F             M  \n",
            "\n",
            "[18361 rows x 6 columns]\n"
          ]
        }
      ]
    },
    {
      "cell_type": "code",
      "source": [
        "#Q2(c)\n",
        "df_selected[\"IncomeBin\"] = pd.cut(df_selected[\"YearlyIncome\"], bins=4, labels=[\"Low\", \"Medium\", \"High\", \"Very High\"])"
      ],
      "metadata": {
        "id": "7HBOM8tD3YBO"
      },
      "execution_count": 17,
      "outputs": []
    },
    {
      "cell_type": "code",
      "source": [
        "#Q2(d)\n",
        "from sklearn.preprocessing import StandardScaler\n",
        "Scaler = StandardScaler()\n",
        "df_selected[['YearlyIncome']] = Scaler.fit_transform(df_selected[['YearlyIncome']])\n",
        "print(df_selected)"
      ],
      "metadata": {
        "colab": {
          "base_uri": "https://localhost:8080/"
        },
        "id": "chLNRIxC4OQp",
        "outputId": "9ce2fad5-b650-4ee3-bbcf-3dddc0897858"
      },
      "execution_count": 18,
      "outputs": [
        {
          "output_type": "stream",
          "name": "stdout",
          "text": [
            "       YearlyIncome  NumberCarsOwned  NumberChildrenAtHome      Occupation  \\\n",
            "0          0.298555                3                     0        Clerical   \n",
            "1          0.271180                2                     1        Clerical   \n",
            "2          0.444261                3                     0        Clerical   \n",
            "3         -0.367401                2                     1  Skilled Manual   \n",
            "4         -0.682765                1                     0  Skilled Manual   \n",
            "...             ...              ...                   ...             ...   \n",
            "18356     -0.645321                1                     0  Skilled Manual   \n",
            "18357     -0.383337                2                     0  Skilled Manual   \n",
            "18358     -0.680973                2                     0  Skilled Manual   \n",
            "18359      0.470006                0                     0        Clerical   \n",
            "18360      2.088996                2                     0    Professional   \n",
            "\n",
            "      Gender MaritalStatus  IncomeBin  \n",
            "0          M             M     Medium  \n",
            "1          M             M     Medium  \n",
            "2          F             S       High  \n",
            "3          M             M     Medium  \n",
            "4          M             S        Low  \n",
            "...      ...           ...        ...  \n",
            "18356      F             M        Low  \n",
            "18357      F             S     Medium  \n",
            "18358      F             S        Low  \n",
            "18359      F             S       High  \n",
            "18360      F             M  Very High  \n",
            "\n",
            "[18361 rows x 7 columns]\n"
          ]
        }
      ]
    },
    {
      "cell_type": "code",
      "source": [
        "df_final = pd.get_dummies(df_selected, columns=[\"Occupation\", \"Gender\", \"MaritalStatus\", \"IncomeBin\"])\n",
        "print(df_final.head())"
      ],
      "metadata": {
        "colab": {
          "base_uri": "https://localhost:8080/"
        },
        "id": "YPTRqHGX72x6",
        "outputId": "9f97d3f0-2aa8-4dfd-d9be-9b4b97ee11b6"
      },
      "execution_count": 19,
      "outputs": [
        {
          "output_type": "stream",
          "name": "stdout",
          "text": [
            "   YearlyIncome  NumberCarsOwned  NumberChildrenAtHome  Occupation_Clerical  \\\n",
            "0      0.298555                3                     0                 True   \n",
            "1      0.271180                2                     1                 True   \n",
            "2      0.444261                3                     0                 True   \n",
            "3     -0.367401                2                     1                False   \n",
            "4     -0.682765                1                     0                False   \n",
            "\n",
            "   Occupation_Management  Occupation_Manual  Occupation_Professional  \\\n",
            "0                  False              False                    False   \n",
            "1                  False              False                    False   \n",
            "2                  False              False                    False   \n",
            "3                  False              False                    False   \n",
            "4                  False              False                    False   \n",
            "\n",
            "   Occupation_Skilled Manual  Gender_F  Gender_M  MaritalStatus_M  \\\n",
            "0                      False     False      True             True   \n",
            "1                      False     False      True             True   \n",
            "2                      False      True     False            False   \n",
            "3                       True     False      True             True   \n",
            "4                       True     False      True            False   \n",
            "\n",
            "   MaritalStatus_S  IncomeBin_Low  IncomeBin_Medium  IncomeBin_High  \\\n",
            "0            False          False              True           False   \n",
            "1            False          False              True           False   \n",
            "2             True          False             False            True   \n",
            "3            False          False              True           False   \n",
            "4             True           True             False           False   \n",
            "\n",
            "   IncomeBin_Very High  \n",
            "0                False  \n",
            "1                False  \n",
            "2                False  \n",
            "3                False  \n",
            "4                False  \n"
          ]
        }
      ]
    },
    {
      "cell_type": "code",
      "source": [
        "#Q3(a)\n",
        "from numpy import dot\n",
        "from numpy.linalg import norm\n",
        "def simple_matching(row1, row2):\n",
        "    return sum(row1 == row2) / len(row1)\n",
        "def jaccard_similarity(row1, row2):\n",
        "    intersection = set(row1) & set(row2)\n",
        "    union = set(row1) | set(row2)\n",
        "    return len(intersection) / len(union)\n",
        "def cosine_similarity(row1, row2):\n",
        "    return dot(row1, row2) / (norm(row1) * norm(row2))\n",
        "row1 = df_final.iloc[0]\n",
        "row2 = df_final.iloc[1]\n",
        "binary_columns = [col for col in df_final.columns if df_final[col].nunique() == 2]\n",
        "jaccard = jaccard_similarity(row1[binary_columns], row2[binary_columns])\n",
        "simple = simple_matching(row1, row2)\n",
        "cosine = cosine_similarity(row1, row2)\n",
        "print(\"Jaccard Similarity:\", jaccard)\n",
        "print(\"Simple Matching:\", simple)\n",
        "print(\"Cosine Similarity:\", cosine)"
      ],
      "metadata": {
        "colab": {
          "base_uri": "https://localhost:8080/"
        },
        "id": "SDlXbs_I79qx",
        "outputId": "be5a35de-1a75-41a2-c124-8cf00e9c2152"
      },
      "execution_count": 20,
      "outputs": [
        {
          "output_type": "stream",
          "name": "stdout",
          "text": [
            "Jaccard Similarity: 1.0\n",
            "Simple Matching: 0.8125\n",
            "Cosine Similarity: 0.9250349973184169\n"
          ]
        }
      ]
    },
    {
      "cell_type": "code",
      "source": [
        "#Q3(b)\n",
        "commute = df_final['NumberCarsOwned']\n",
        "income = df_final['YearlyIncome']\n",
        "correlation = commute.corr(income)\n",
        "print(correlation)"
      ],
      "metadata": {
        "colab": {
          "base_uri": "https://localhost:8080/"
        },
        "id": "RsfHS81K8a2P",
        "outputId": "f6c04c23-0e70-4b46-eb93-612c3686fa8c"
      },
      "execution_count": 21,
      "outputs": [
        {
          "output_type": "stream",
          "name": "stdout",
          "text": [
            "0.4773001523631695\n"
          ]
        }
      ]
    }
  ]
}