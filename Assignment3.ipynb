{
  "nbformat": 4,
  "nbformat_minor": 0,
  "metadata": {
    "colab": {
      "provenance": []
    },
    "kernelspec": {
      "name": "python3",
      "display_name": "Python 3"
    },
    "language_info": {
      "name": "python"
    }
  },
  "cells": [
    {
      "cell_type": "code",
      "execution_count": 1,
      "metadata": {
        "id": "ogRPjiiKjQIC"
      },
      "outputs": [],
      "source": [
        "ASSIGNMENT-3\n",
        "import pandas as pd\n",
        "import numpy as np\n",
        "from sklearn.preprocessing import StandardScaler\n",
        "from sklearn.metrics import r2_score\n",
        "from sklearn.model_selection import KFold, train_test_split"
      ]
    },
    {
      "cell_type": "code",
      "source": [
        "df = pd.read_csv('USA_Housing.csv')"
      ],
      "metadata": {
        "id": "QaYW2e1SmTWr"
      },
      "execution_count": 2,
      "outputs": []
    },
    {
      "cell_type": "code",
      "source": [
        "#Q1(a)\n",
        "X = df.drop(columns=[\"Price\"]).values\n",
        "y = df[\"Price\"].values"
      ],
      "metadata": {
        "id": "nr3FzR6SmXHA"
      },
      "execution_count": 3,
      "outputs": []
    },
    {
      "cell_type": "code",
      "source": [
        "#Q1(b)\n",
        "scaler = StandardScaler()\n",
        "X_scaled = scaler.fit_transform(X)"
      ],
      "metadata": {
        "id": "yF5w8rRcmbT2"
      },
      "execution_count": 4,
      "outputs": []
    },
    {
      "cell_type": "code",
      "source": [
        "#Q1(c)\n",
        "kf = KFold(n_splits=5, shuffle=True, random_state=42)"
      ],
      "metadata": {
        "id": "CO8OUErmmiGy"
      },
      "execution_count": 5,
      "outputs": []
    },
    {
      "cell_type": "code",
      "source": [
        "#Q1(d)\n",
        "best_r2 = -np.inf\n",
        "best_beta = None\n",
        "\n",
        "for train_index, test_index in kf.split(X_scaled):\n",
        "    X_train, X_test = X_scaled[train_index], X_scaled[test_index]\n",
        "    y_train, y_test = y[train_index], y[test_index]\n",
        "\n",
        "    X_train_bias = np.hstack([np.ones((X_train.shape[0], 1)), X_train])\n",
        "    X_test_bias = np.hstack([np.ones((X_test.shape[0], 1)), X_test])\n",
        "\n",
        "    beta = np.linalg.pinv(X_train_bias.T @ X_train_bias) @ (X_train_bias.T @ y_train)\n",
        "\n",
        "    y_pred = X_test_bias @ beta\n",
        "    r2 = r2_score(y_test, y_pred)\n",
        "\n",
        "    if r2 > best_r2:\n",
        "        best_r2 = r2\n",
        "        best_beta = beta\n",
        "\n",
        "print(\"Best R-squared:\", best_r2)\n",
        "print(\"Best beta:\", best_beta)\n"
      ],
      "metadata": {
        "colab": {
          "base_uri": "https://localhost:8080/"
        },
        "id": "kESckImkm0uI",
        "outputId": "50c8b45a-b53a-4277-a11f-2560ed8baa69"
      },
      "execution_count": 8,
      "outputs": [
        {
          "output_type": "stream",
          "name": "stdout",
          "text": [
            "Best R-squared: 0.9243869413350317\n",
            "Best beta: [1.23161736e+06 2.30225051e+05 1.63956839e+05 1.21115120e+05\n",
            " 7.83467170e+02 1.50662447e+05]\n"
          ]
        }
      ]
    },
    {
      "cell_type": "code",
      "source": [
        "#Q1(e)\n",
        "X_train_final, X_test_final, y_train_final, y_test_final = train_test_split( X_scaled, y, test_size=0.3, random_state=42)\n",
        "\n",
        "X_train_bias = np.hstack([np.ones((X_train_final.shape[0], 1)), X_train_final])\n",
        "X_test_bias = np.hstack([np.ones((X_test_final.shape[0], 1)), X_test_final])\n",
        "\n",
        "beta_final = np.linalg.pinv(X_train_bias.T @ X_train_bias) @ (X_train_bias.T @ y_train_final)\n",
        "\n",
        "y_pred_final = X_test_bias @ beta_final\n",
        "r2_final = r2_score(y_test_final, y_pred_final)\n",
        "\n",
        "print(\"Final R-squared:\", r2_final)\n",
        "print(\"Final beta:\", beta_final)"
      ],
      "metadata": {
        "colab": {
          "base_uri": "https://localhost:8080/"
        },
        "id": "K1xGwvjmnYB1",
        "outputId": "e366cde1-5105-43b3-beb6-ad1d7b56d160"
      },
      "execution_count": 10,
      "outputs": [
        {
          "output_type": "stream",
          "name": "stdout",
          "text": [
            "Final R-squared: 0.9146818498916267\n",
            "Final beta: [1231278.63687691  230464.52520478  164159.19982569  120514.71328324\n",
            "    2913.62424674  151019.35865135]\n"
          ]
        }
      ]
    },
    {
      "cell_type": "code",
      "source": [
        "#Q2\n",
        "X_temp, X_test, y_temp, y_test = train_test_split(X_scaled, y, test_size=0.30, random_state=42)\n",
        "X_train, X_val, y_train, y_val = train_test_split(X_temp, y_temp, test_size=0.2, random_state=42)\n",
        "\n",
        "def gradient_descent(X, y, lr, n_iter):\n",
        "    m, n = X.shape\n",
        "    X_b = np.hstack([np.ones((m, 1)), X])\n",
        "    beta = np.zeros(n + 1)\n",
        "    for i in range(n_iter):\n",
        "        y_pred = X_b @ beta\n",
        "        error = y_pred - y\n",
        "        grad = X_b.T @ error / m\n",
        "        beta -= lr * grad\n",
        "    return beta"
      ],
      "metadata": {
        "id": "EWviMGRUqcgS"
      },
      "execution_count": 11,
      "outputs": []
    },
    {
      "cell_type": "code",
      "source": [
        "lrs = [0.001, 0.01, 0.1, 1]\n",
        "best_r2_val = -np.inf\n",
        "best_beta = None\n",
        "best_lr = None\n",
        "\n",
        "for lr in lrs:\n",
        "    beta = gradient_descent(X_train, y_train, lr, 1000)\n",
        "\n",
        "    X_val_b = np.hstack([np.ones((X_val.shape[0], 1)), X_val])\n",
        "    X_test_b = np.hstack([np.ones((X_test.shape[0], 1)), X_test])\n",
        "\n",
        "    y_pred_val = X_val_b @ beta\n",
        "    y_pred_test = X_test_b @ beta\n",
        "    r2_val = r2_score(y_val, y_pred_val)\n",
        "    r2_test = r2_score(y_test, y_pred_test)\n",
        "\n",
        "    print(f\"Learning rate: {lr}\")\n",
        "    print(f\"Validation R2: {r2_val:.4f}\")\n",
        "    print(f\"Test R2: {r2_test:.4f}\")\n",
        "    print(f\"Beta: {beta}\\n\")\n",
        "\n",
        "    if r2_val > best_r2_val:\n",
        "        best_r2_val = r2_val\n",
        "        best_beta = beta\n",
        "        best_lr = lr"
      ],
      "metadata": {
        "colab": {
          "base_uri": "https://localhost:8080/"
        },
        "id": "Uhdr7TjvrwO8",
        "outputId": "5e50a214-bb38-4501-ba87-f6dc489bc805"
      },
      "execution_count": 12,
      "outputs": [
        {
          "output_type": "stream",
          "name": "stdout",
          "text": [
            "Learning rate: 0.001\n",
            "Validation R2: -0.8125\n",
            "Test R2: -0.9914\n",
            "Beta: [778829.54135369 145453.10988562 101705.72638779  81088.52016625\n",
            "  32930.95853355  88928.37718239]\n",
            "\n",
            "Learning rate: 0.01\n",
            "Validation R2: 0.9098\n",
            "Test R2: 0.9147\n",
            "Beta: [1232562.51254919  230048.76664688  163686.93503606  121406.94107918\n",
            "    3117.47363933  150655.97459714]\n",
            "\n",
            "Learning rate: 0.1\n",
            "Validation R2: 0.9098\n",
            "Test R2: 0.9148\n",
            "Beta: [1232618.32011841  230067.9889464   163710.33259401  121681.42752283\n",
            "    2832.15066521  150657.52262836]\n",
            "\n",
            "Learning rate: 1\n",
            "Validation R2: 0.9098\n",
            "Test R2: 0.9148\n",
            "Beta: [1232618.32011841  230067.9889464   163710.33259401  121681.42752284\n",
            "    2832.15066521  150657.52262836]\n",
            "\n"
          ]
        }
      ]
    },
    {
      "cell_type": "code",
      "source": [
        "print(\"Best validation R2:\", best_r2_val)\n",
        "print(\"Best learning rate:\", best_lr)\n",
        "print(\"Best beta:\", best_beta)\n"
      ],
      "metadata": {
        "colab": {
          "base_uri": "https://localhost:8080/"
        },
        "id": "kVwbiOBCr5Sh",
        "outputId": "701c00bd-fcca-4e48-9599-64ef866134ea"
      },
      "execution_count": 13,
      "outputs": [
        {
          "output_type": "stream",
          "name": "stdout",
          "text": [
            "Best validation R2: 0.9098183094422969\n",
            "Best learning rate: 0.01\n",
            "Best beta: [1232562.51254919  230048.76664688  163686.93503606  121406.94107918\n",
            "    3117.47363933  150655.97459714]\n"
          ]
        }
      ]
    },
    {
      "cell_type": "code",
      "source": [
        "y_pred_best_test = X_test_b @ best_beta\n",
        "best_test_r2 = r2_score(y_test, y_pred_best_test)\n",
        "print(\"Best Test R2 with best beta:\", best_test_r2)"
      ],
      "metadata": {
        "colab": {
          "base_uri": "https://localhost:8080/"
        },
        "id": "LhN12dGOr-Sq",
        "outputId": "84af7426-1457-466d-94a7-33e6b652d04a"
      },
      "execution_count": 14,
      "outputs": [
        {
          "output_type": "stream",
          "name": "stdout",
          "text": [
            "Best Test R2 with best beta: 0.9147434800538763\n"
          ]
        }
      ]
    },
    {
      "cell_type": "code",
      "source": [
        "#Q3\n",
        "from sklearn.linear_model import LinearRegression\n",
        "from sklearn.model_selection import train_test_split\n",
        "from sklearn.preprocessing import StandardScaler, LabelEncoder\n",
        "from sklearn.decomposition import PCA\n",
        "from sklearn.metrics import r2_score"
      ],
      "metadata": {
        "id": "Nc4HLa79sG4i"
      },
      "execution_count": 15,
      "outputs": []
    },
    {
      "cell_type": "code",
      "source": [
        "column_names = [\n",
        "    \"symboling\", \"normalized_losses\", \"make\", \"fuel_type\", \"aspiration\", \"num_doors\", \"body_style\",\n",
        "    \"drive_wheels\", \"engine_location\", \"wheel_base\", \"length\", \"width\", \"height\", \"curb_weight\",\n",
        "    \"engine_type\", \"num_cylinders\", \"engine_size\", \"fuel_system\", \"bore\", \"stroke\",\n",
        "    \"compression_ratio\", \"horsepower\", \"peak_rpm\", \"city_mpg\", \"highway_mpg\", \"price\"\n",
        "]\n",
        "df = pd.read_csv('imports-85.data.txt', names=column_names, na_values='?')"
      ],
      "metadata": {
        "id": "GlPz_U2zt79q"
      },
      "execution_count": 18,
      "outputs": []
    },
    {
      "cell_type": "code",
      "source": [
        "#Q3(b)\n",
        "for col in df.columns:\n",
        "    if df[col].dtype == 'O':\n",
        "        df[col] = df[col].fillna(df[col].mode()[0])\n",
        "    else:\n",
        "        df[col] = df[col].fillna(df[col].median())\n",
        "\n",
        "df.dropna(subset=['price'], inplace=True)\n",
        "df['price'] = pd.to_numeric(df['price'])\n"
      ],
      "metadata": {
        "id": "XuiW78uXul6Q"
      },
      "execution_count": 20,
      "outputs": []
    },
    {
      "cell_type": "code",
      "source": [
        "#Q3(c)\n",
        "doors_map = {'two':2, 'four':4}\n",
        "cyl_map = {'two':2, 'three':3, 'four':4, 'five':5, 'six':6, 'eight':8, 'twelve':12}\n",
        "df['num_doors'] = df['num_doors'].map(doors_map).astype(int)\n",
        "df['num_cylinders'] = df['num_cylinders'].map(cyl_map).astype(int)\n",
        "\n",
        "df = pd.get_dummies(df, columns=['body_style', 'drive_wheels'])\n",
        "\n",
        "for col in ['make', 'aspiration', 'engine_location', 'fuel_type']:\n",
        "    df[col] = LabelEncoder().fit_transform(df[col])\n",
        "\n",
        "df['fuel_system'] = df['fuel_system'].apply(lambda x: 1 if 'pfi' in x else 0)\n",
        "df['engine_type'] = df['engine_type'].apply(lambda x: 1 if 'ohc' in x else 0)\n"
      ],
      "metadata": {
        "id": "yVtOvPLcvR1P"
      },
      "execution_count": 21,
      "outputs": []
    },
    {
      "cell_type": "code",
      "source": [
        "for col in df.columns:\n",
        "    if df[col].dtype == 'O':\n",
        "        df[col] = pd.to_numeric(df[col], errors='coerce')\n"
      ],
      "metadata": {
        "id": "obBqk3OTvZCp"
      },
      "execution_count": 22,
      "outputs": []
    },
    {
      "cell_type": "code",
      "source": [
        "#Q3(d)\n",
        "X = df.drop(['price'], axis=1).values\n",
        "y = df['price'].values\n",
        "scaler = StandardScaler()\n",
        "X_scaled = scaler.fit_transform(X)\n",
        "\n",
        "X_train, X_test, y_train, y_test = train_test_split(X_scaled, y, test_size=0.3, random_state=42)\n",
        "#Q3(e)\n",
        "lr = LinearRegression()\n",
        "lr.fit(X_train, y_train)\n",
        "y_pred = lr.predict(X_test)\n",
        "r2_initial = r2_score(y_test, y_pred)\n",
        "print(\"R2 score without PCA:\", r2_initial)\n"
      ],
      "metadata": {
        "colab": {
          "base_uri": "https://localhost:8080/"
        },
        "id": "2viPW879vcjH",
        "outputId": "9615556e-5674-4cab-e23b-5b45a5b1be3e"
      },
      "execution_count": 23,
      "outputs": [
        {
          "output_type": "stream",
          "name": "stdout",
          "text": [
            "R2 score without PCA: 0.7962231220908706\n"
          ]
        }
      ]
    },
    {
      "cell_type": "code",
      "source": [
        "#Q3(f)\n",
        "pca = PCA(n_components=0.95)\n",
        "X_pca = pca.fit_transform(X_scaled)\n",
        "\n",
        "X_train_pca, X_test_pca, y_train_pca, y_test_pca = train_test_split(X_pca, y, test_size=0.3, random_state=42)\n",
        "lr_pca = LinearRegression()\n",
        "lr_pca.fit(X_train_pca, y_train_pca)\n",
        "y_pred_pca = lr_pca.predict(X_test_pca)\n",
        "r2_pca = r2_score(y_test_pca, y_pred_pca)\n",
        "print(\"R2 score with PCA:\", r2_pca)\n"
      ],
      "metadata": {
        "colab": {
          "base_uri": "https://localhost:8080/"
        },
        "id": "Y4tyNLCUvjbR",
        "outputId": "40a18a5d-e609-40c5-8f25-4378fe986240"
      },
      "execution_count": 24,
      "outputs": [
        {
          "output_type": "stream",
          "name": "stdout",
          "text": [
            "R2 score with PCA: 0.7579526472850185\n"
          ]
        }
      ]
    },
    {
      "cell_type": "code",
      "source": [],
      "metadata": {
        "id": "Yn9nsv1Zvoa0"
      },
      "execution_count": null,
      "outputs": []
    }
  ]
}